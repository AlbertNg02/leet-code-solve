{
 "cells": [
  {
   "cell_type": "code",
   "execution_count": 9,
   "metadata": {},
   "outputs": [
    {
     "name": "stdout",
     "output_type": "stream",
     "text": [
      "41\n"
     ]
    }
   ],
   "source": [
    "def get_string(num):\n",
    "    r = \"\"\n",
    "    i = 0\n",
    "    num += \"0\"\n",
    "    while i < len(num)-1:\n",
    "        \n",
    "        j = 1\n",
    "        curr = num[i]\n",
    "        while num[i+j]==curr:\n",
    "            curr = num[i+j]\n",
    "            j += 1\n",
    "        r += str(j) + num[i]\n",
    "        i += j\n",
    "    return r\n",
    "\n",
    "print(get_string(\"1111\"))"
   ]
  },
  {
   "cell_type": "code",
   "execution_count": 11,
   "metadata": {},
   "outputs": [
    {
     "name": "stdout",
     "output_type": "stream",
     "text": [
      "1112131113\n"
     ]
    }
   ],
   "source": [
    "def pro_gs(num):\n",
    "    r = \"\"\n",
    "    i = 0\n",
    "    while i < len(num):\n",
    "        cur = num[i]\n",
    "        j = 1\n",
    "        while cur == num[i+j] and (i+j) < len(num):\n",
    "            j += 1\n",
    "        \n",
    "        r += num[i] + str(j)\n",
    "    return r\n",
    "\n",
    "print(get_string(\"12313\"))\n",
    "\n",
    "\n",
    "\n",
    "\n",
    "\n",
    "\n",
    "\n"
   ]
  },
  {
   "cell_type": "code",
   "execution_count": 1,
   "metadata": {},
   "outputs": [
    {
     "name": "stdout",
     "output_type": "stream",
     "text": [
      "1112131113\n",
      "hello\n"
     ]
    }
   ],
   "source": [
    "# Online Python compiler (interpreter) to run Python online.\n",
    "# Write Python 3 code in this online editor and run it.\n",
    "\n",
    "\n",
    "def get_string(num):\n",
    "    temp = \"\"\n",
    "    i = 0\n",
    "    num += \"0\"\n",
    "    while i < len(num) - 1:\n",
    "        j = 1\n",
    "        prev = num[i]\n",
    "        while num[i + j] == prev:\n",
    "            prev = num[i + j]\n",
    "            j += 1\n",
    "        \n",
    "        temp = temp + str(j) + num[i]\n",
    "        i += j \n",
    "    return temp\n",
    "\n",
    "print(get_string(\"12313\"))    \n",
    "print(\"hello\")\n",
    "\n",
    "# def sum_str(num):\n",
    "#     nsum = 0\n",
    "#     for c in num:\n",
    "#         nsum += int(c)\n",
    "#     return nsum\n",
    "\n",
    "\n",
    "# def sum_of_digits(q):\n",
    "#     nums = [None for i in range(q[0] + 1)]\n",
    "#     print(nums)\n",
    "    \n",
    "#     res = []\n",
    "#     for p in q[1:]: \n",
    "#         prev_str = \"1\"\n",
    "\n",
    "#         yourNum = p\n",
    "#         for i in range(yourNum - 1):\n",
    "#             if nums[i] == None:\n",
    "#                 print(i)\n",
    "#                 prev_str = get_string(prev_str)\n",
    "                \n",
    "            \n",
    "#             prev_str = nums[i]\n",
    "#         res.append(sum_str(prev_str))\n",
    "#     return res\n"
   ]
  },
  {
   "cell_type": "code",
   "execution_count": null,
   "metadata": {},
   "outputs": [],
   "source": [
    "# Online Python compiler (interpreter) to run Python online.\n",
    "# Write Python 3 code in this online editor and run it.\n",
    "def get_string(num):\n",
    "    temp = \"\"\n",
    "    i = 0\n",
    "    num += \"0\"\n",
    "    while i < len(num) - 1:\n",
    "        j = 1\n",
    "        prev = num[i]\n",
    "        while num[i + j] == prev:\n",
    "            prev = num[i + j]\n",
    "            j += 1\n",
    "        temp = temp + str(j) + num[i]\n",
    "        i += j\n",
    "    return temp\n",
    "def sum_str(num):\n",
    "    nsum = 0\n",
    "    for c in num:\n",
    "        nsum += int(c)\n",
    "    return nsum\n",
    "def sum_of_digits(q):\n",
    "    nums = [None for i in range(500)]\n",
    "    res = []\n",
    "    for p in q[1:]:\n",
    "        prev_str = \"1\"\n",
    "        yourNum = p\n",
    "        for i in range(yourNum - 1):\n",
    "            if nums[i] != None:\n",
    "                prev_str = nums[i]\n",
    "                continue\n",
    "            prev_str = get_string(prev_str)\n",
    "            nums[i] = prev_str\n",
    "        res.append(sum_str(prev_str))\n",
    "    return res\n",
    "print(sum_of_digits([2, 10 , 5, 3, 7,5,4,2,3,4,5,6,1,2,3,4,10,20,30,4,20,40,10,40,30])) "
   ]
  }
 ],
 "metadata": {
  "kernelspec": {
   "display_name": "base",
   "language": "python",
   "name": "python3"
  },
  "language_info": {
   "codemirror_mode": {
    "name": "ipython",
    "version": 3
   },
   "file_extension": ".py",
   "mimetype": "text/x-python",
   "name": "python",
   "nbconvert_exporter": "python",
   "pygments_lexer": "ipython3",
   "version": "3.10.11"
  }
 },
 "nbformat": 4,
 "nbformat_minor": 2
}
