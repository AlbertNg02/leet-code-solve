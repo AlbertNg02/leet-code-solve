{
 "cells": [
  {
   "cell_type": "markdown",
   "metadata": {},
   "source": [
    "Problem 1: Is Possible\n",
    "Consider a pair of intergers (a,b). The following operations can be performed on a,b in any order, zero or more times\n",
    "\n",
    "* (a,b) -> (a+b,b)\n",
    "\n",
    "*(a,b)-> (a,a+b)\n",
    "\n",
    "Return a string that denotes whether or not (a,b) can be converted to (c,d) by performing the operation zero or more times\n",
    "\n",
    "Solution: This Problem can be solve using Recurrsion or Dynamic Programming (Since Contrainst are very low I solved using Recurrsion)"
   ]
  },
  {
   "cell_type": "code",
   "execution_count": 1,
   "metadata": {},
   "outputs": [
    {
     "name": "stdout",
     "output_type": "stream",
     "text": [
      "True\n"
     ]
    }
   ],
   "source": [
    "def check_recurse_sum(a,b,c,d):\n",
    "    if (a==c) and (b==d):\n",
    "        return True\n",
    "    elif (a>c) or (b > d):\n",
    "        return False\n",
    "    else:\n",
    "        return check_recurse_sum(a+b,b,c,d) or check_recurse_sum(a,a+b,c,d)\n",
    "    \n",
    "print(check_recurse_sum(1, 1, 5, 2))    "
   ]
  },
  {
   "cell_type": "markdown",
   "metadata": {},
   "source": [
    "Problem 2: Highly Profitable Months\n",
    "\n",
    "The Stocks of a company are being surveyed to analyse the net profit of the company over a period\n",
    "\n",
    "For an analysis parameter k, an interval of k concutive months is said to be hightly profitable if the values of the stock prices are strictly increasing for those months. Given the stock prices of the company for n months and the analysis parameter k find the number of highly profitable intervals.\n",
    "\n",
    "Example : stockPrices=[5,3,5,7,8], K=3\n",
    "Here the answer is 2\n",
    "\n",
    "Solution: Here the simple traversal would work, "
   ]
  },
  {
   "cell_type": "code",
   "execution_count": 28,
   "metadata": {},
   "outputs": [
    {
     "name": "stdout",
     "output_type": "stream",
     "text": [
      "[0, 1, 1, 1]\n",
      "2\n",
      "[1, 1, 0, 1, 1, 0]\n",
      "2\n",
      "[1, 1, 0, 1, 1, 0]\n",
      "4\n"
     ]
    }
   ],
   "source": [
    "def hpm(sp: list, k: int):\n",
    "    sp_len = len(sp)\n",
    "    count = 0\n",
    "    condition = k - 1\n",
    "    sp_bool = [None] * (sp_len-1)\n",
    "    for i in range(len(sp)-1):\n",
    "        if sp[i]<sp[i+1]:\n",
    "            sp_bool[i] = 1\n",
    "        else:\n",
    "            sp_bool[i] = 0\n",
    "    \n",
    "    next_month_increase_count = sum(sp_bool[0:condition])\n",
    "    print(sp_bool)\n",
    "    if next_month_increase_count == condition:\n",
    "        count += 1\n",
    "    \n",
    "    for i in range(condition,len(sp_bool)):\n",
    "        \n",
    "        next_month_increase_count += sp_bool[i] - sp_bool[i-condition]\n",
    "        if next_month_increase_count == condition:\n",
    "            count +=1\n",
    "    return count\n",
    "\n",
    "\n",
    "print(hpm([5,3,5,7,8],3))\n",
    "print(hpm([2,3,4,1,3,7,2],3))\n",
    "print(hpm([2,3,4,1,3,7,2],2))\n",
    "\n",
    "\n",
    "    \n",
    "    \n",
    "\n",
    "\n",
    "\n"
   ]
  },
  {
   "cell_type": "markdown",
   "metadata": {},
   "source": [
    "Problem 3: Break a Palindrome\n",
    "\n",
    "A palindrome reads the same from left to right and right to left, e.g., “mom” is a palindrome. You are given a palindrome string that must be modified if possible. Your task is to change exactly one character in the string to another character from the range ‘a’ to ‘z’ (both inclusive) so that the string meets the following three conditions:\n",
    "\n",
    "    The new string is lower alphabetically than the initial string.\n",
    "    The new string is the lowest value string alphabetically that can be created from the original palindrome after making only one change.\n",
    "    The new string is not a palindrome.\n",
    "\n",
    "If there is no valid way to modify the palindrome string, return the string “IMPOSSIBLE”.\n",
    "\n",
    "Solution: O(N) Time Complexity with single traversal"
   ]
  },
  {
   "cell_type": "code",
   "execution_count": 36,
   "metadata": {},
   "outputs": [],
   "source": [
    "def thefinalproblem(target):\n",
    "\n",
    "    flips = 0\n",
    "    chars_on_right = '0'\n",
    "\n",
    "\n",
    "    for char in target:\n",
    "\n",
    "        if char != chars_on_right:\n",
    "            flips += 1\n",
    "            current_char = char\n",
    "\n",
    "    return flips\n",
    "\n",
    "test_target = \"01011001\"\n",
    "print(thefinalproblem(test_target))"
   ]
  }
 ],
 "metadata": {
  "kernelspec": {
   "display_name": "base",
   "language": "python",
   "name": "python3"
  },
  "language_info": {
   "codemirror_mode": {
    "name": "ipython",
    "version": 3
   },
   "file_extension": ".py",
   "mimetype": "text/x-python",
   "name": "python",
   "nbconvert_exporter": "python",
   "pygments_lexer": "ipython3",
   "version": "3.10.11"
  }
 },
 "nbformat": 4,
 "nbformat_minor": 2
}
