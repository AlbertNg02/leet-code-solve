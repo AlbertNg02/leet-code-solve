{
 "cells": [
  {
   "cell_type": "code",
   "execution_count": 6,
   "metadata": {},
   "outputs": [
    {
     "ename": "TypeError",
     "evalue": "'builtin_function_or_method' object is not subscriptable",
     "output_type": "error",
     "traceback": [
      "\u001b[0;31m---------------------------------------------------------------------------\u001b[0m",
      "\u001b[0;31mTypeError\u001b[0m                                 Traceback (most recent call last)",
      "Cell \u001b[0;32mIn[6], line 24\u001b[0m\n\u001b[1;32m     18\u001b[0m             stack\u001b[38;5;241m.\u001b[39mappend(w)\n\u001b[1;32m     21\u001b[0m     \u001b[38;5;28;01mreturn\u001b[39;00m  \u001b[38;5;28;01mTrue\u001b[39;00m \u001b[38;5;28;01mif\u001b[39;00m stack \u001b[38;5;28;01melse\u001b[39;00m \u001b[38;5;28;01mFalse\u001b[39;00m\n\u001b[0;32m---> 24\u001b[0m \u001b[38;5;28mprint\u001b[39m(\u001b[43misValid\u001b[49m\u001b[43m(\u001b[49m\u001b[38;5;124;43m\"\u001b[39;49m\u001b[38;5;124;43m[]\u001b[39;49m\u001b[38;5;124;43m\"\u001b[39;49m\u001b[43m)\u001b[49m)\n",
      "Cell \u001b[0;32mIn[6], line 15\u001b[0m, in \u001b[0;36misValid\u001b[0;34m(s)\u001b[0m\n\u001b[1;32m     11\u001b[0m \u001b[38;5;28;01mfor\u001b[39;00m w \u001b[38;5;129;01min\u001b[39;00m s:\n\u001b[1;32m     12\u001b[0m     \u001b[38;5;66;03m# Check stack[0] checks for chrono order\u001b[39;00m\n\u001b[1;32m     13\u001b[0m     \u001b[38;5;28;01mif\u001b[39;00m stack \u001b[38;5;129;01mand\u001b[39;00m stack[\u001b[38;5;241m0\u001b[39m]\u001b[38;5;241m==\u001b[39mpara_hash[w]:\n\u001b[0;32m---> 15\u001b[0m         \u001b[43mstack\u001b[49m\u001b[38;5;241;43m.\u001b[39;49m\u001b[43mpop\u001b[49m\u001b[43m[\u001b[49m\u001b[43mw\u001b[49m\u001b[43m]\u001b[49m\n\u001b[1;32m     17\u001b[0m     \u001b[38;5;28;01melse\u001b[39;00m:\n\u001b[1;32m     18\u001b[0m         stack\u001b[38;5;241m.\u001b[39mappend(w)\n",
      "\u001b[0;31mTypeError\u001b[0m: 'builtin_function_or_method' object is not subscriptable"
     ]
    }
   ],
   "source": [
    "# @lc code=start\n",
    "def isValid(s: str) -> bool:\n",
    "    \n",
    "    stack = []\n",
    "    para_hash = {\n",
    "        \")\":\"(\",\n",
    "        \"}\":\"{\",\n",
    "        \"]\":\"[\",\n",
    "    }\n",
    "\n",
    "    for w in s:\n",
    "        # Check stack[0] checks for chrono order\n",
    "        if stack and stack[0]==para_hash[w]:\n",
    "\n",
    "            stack.pop[w]\n",
    "        \n",
    "        else:\n",
    "            stack.append(w)\n",
    "            \n",
    "    \n",
    "    return  True if stack else False\n",
    "\n",
    "\n",
    "print(isValid(\"[]\"))"
   ]
  },
  {
   "cell_type": "code",
   "execution_count": 4,
   "metadata": {},
   "outputs": [
    {
     "name": "stdout",
     "output_type": "stream",
     "text": [
      "lower\n"
     ]
    }
   ],
   "source": [
    "min = 5\n",
    "\n",
    "s = \"lower\" if min < 10 else \"higher\"\n",
    "print(s)"
   ]
  }
 ],
 "metadata": {
  "kernelspec": {
   "display_name": "base",
   "language": "python",
   "name": "python3"
  },
  "language_info": {
   "codemirror_mode": {
    "name": "ipython",
    "version": 3
   },
   "file_extension": ".py",
   "mimetype": "text/x-python",
   "name": "python",
   "nbconvert_exporter": "python",
   "pygments_lexer": "ipython3",
   "version": "3.11.6"
  }
 },
 "nbformat": 4,
 "nbformat_minor": 2
}
